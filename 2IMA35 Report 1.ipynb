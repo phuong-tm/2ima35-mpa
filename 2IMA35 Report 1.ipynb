{
 "cells": [
  {
   "cell_type": "code",
   "execution_count": 62,
   "id": "1e9a5b20",
   "metadata": {},
   "outputs": [],
   "source": [
    "'''\n",
    "2IMA35 Massively Parallel Algorithms Report 1\n",
    "... and Jacco Kiezebrink (1237101)\n",
    "'''"
   ]
  },
  {
   "cell_type": "code",
   "execution_count": 197,
   "id": "858f79da",
   "metadata": {},
   "outputs": [],
   "source": [
    "# https://stackoverflow.com/questions/61958360/how-to-create-random-graph-where-each-node-has-at-least-1-edge-using-networkx\n",
    "import numpy as np\n",
    "import networkx as nx\n",
    "import matplotlib.pyplot as plt\n",
    "import random\n",
    "from itertools import combinations, groupby\n",
    "from enum import Enum\n",
    "\n",
    "\n",
    "class WeightingMethod(Enum):\n",
    "    RANDOM = 0,\n",
    "    ALL_THE_SAME = 1,\n",
    "    UNIQUE = 2,\n",
    "    INCIDENT_EDGES_THE_SAME = 3\n",
    "\n",
    "def GenerateGraph(n:int = 0, sparsity:float = 0.0, seed:int = 100, w_method:WeightingMethod = 0, w_min:int = 0, w_max:int = 10):\n",
    "    random.seed(seed)\n",
    "    \"\"\"\n",
    "    Generates a random undirected graph, similarly to an Erdős-Rényi \n",
    "    graph, but enforcing that the resulting graph is conneted\n",
    "    \"\"\"\n",
    "    max_nr_edges = (n * (n - 1)) / 2\n",
    "    possible_edges = combinations(range(n), 2)  # all possible combination of edges, i.e. length is equal to max_nr_edges\n",
    "    total_edges = round(max_nr_edges * sparsity)  # total edges that should be in the final graph\n",
    "    existing_edges = []\n",
    "    unique_weight_counter = 1\n",
    "    \n",
    "    # Create graph with n vertices\n",
    "    G = nx.Graph()\n",
    "    G.add_nodes_from(range(n))\n",
    "    \n",
    "    # Creates a minimum spanning tree\n",
    "    for _, node_edges in groupby(possible_edges, key=lambda x: x[0]):\n",
    "        edge = list(node_edges)[0]\n",
    "        existing_edges.append(edge)\n",
    "        if w_method == 0:\n",
    "            G.add_edge(*edge, weight=random.randint(w_min, w_max))\n",
    "        elif w_method == 1:\n",
    "            G.add_edge(*edge, weight=1)\n",
    "        elif w_method == 2:\n",
    "            G.add_edge(*edge, weight=unique_weight_counter)\n",
    "            unique_weight_counter += 1\n",
    "        else:\n",
    "            G.add_edge(*edge)  # or add edge without weight\n",
    "        \n",
    "    # add edges until the desired number is reached\n",
    "    for edge in list(combinations(range(n), 2)):\n",
    "        if edge not in existing_edges and G.number_of_edges() <= total_edges:\n",
    "            existing_edges.append(edge)\n",
    "            if w_method == 0:\n",
    "                G.add_edge(*edge, weight=random.randint(w_min, w_max))\n",
    "            elif w_method == 1:\n",
    "                G.add_edge(*edge, weight=1)\n",
    "            elif w_method == 2:\n",
    "                G.add_edge(*edge, weight=unique_weight_counter)\n",
    "                unique_weight_counter += 1\n",
    "            else:\n",
    "                G.add_edge(*edge)  # or add edge without weight\n",
    "                \n",
    "    return G"
   ]
  },
  {
   "cell_type": "code",
   "execution_count": 215,
   "id": "f0e5a491",
   "metadata": {},
   "outputs": [
    {
     "name": "stdout",
     "output_type": "stream",
     "text": [
      "23\n"
     ]
    }
   ],
   "source": [
    "G = GenerateGraph(10, 0.5, 100, 1)\n",
    "pos=nx.spring_layout(G)\n",
    "nx.draw(G, pos)\n",
    "\n",
    "# draw with edge weights\n",
    "#labels = nx.get_edge_attributes(G, 'weight')\n",
    "#nx.draw_networkx_edge_labels(G,pos,edge_labels=labels);\n",
    "#plt.savefig(<wherever>)"
   ]
  },
  {
   "cell_type": "code",
   "execution_count": 216,
   "id": "a848150a",
   "metadata": {},
   "outputs": [
    {
     "name": "stdout",
     "output_type": "stream",
     "text": [
      "0 1 2 3 4 5 6 7 8 9\n",
      "1 2 3 4 5 6 7 8\n",
      "2 3\n",
      "3 4\n",
      "4 5\n",
      "5 6\n",
      "6 7\n",
      "7 8\n",
      "8 9\n",
      "9\n"
     ]
    }
   ],
   "source": [
    "# Obtain adjacency list\n",
    "#for line in nx.generate_adjlist(G):\n",
    "#    print(line)"
   ]
  }
 ],
 "metadata": {
  "kernelspec": {
   "display_name": "Python 3",
   "language": "python",
   "name": "python3"
  },
  "language_info": {
   "codemirror_mode": {
    "name": "ipython",
    "version": 3
   },
   "file_extension": ".py",
   "mimetype": "text/x-python",
   "name": "python",
   "nbconvert_exporter": "python",
   "pygments_lexer": "ipython3",
   "version": "3.6.13"
  }
 },
 "nbformat": 4,
 "nbformat_minor": 5
}
